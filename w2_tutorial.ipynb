{
 "cells": [
  {
   "cell_type": "markdown",
   "id": "3ee3102d",
   "metadata": {},
   "source": [
    "# Tutorial week 2\n",
    "\n",
    "Learning outcomes:\n",
    "1. Python fundamentals\n",
    "    * Basic syntax\n",
    "    * Data types\n",
    "    * Data structures\n",
    "    * Custom function\n",
    "    * `Numpy` and `matplotlib` modules\n",
    "3. Familiar with the creation of custom images."
   ]
  },
  {
   "cell_type": "markdown",
   "id": "1a5d8775",
   "metadata": {},
   "source": [
    "## Python fundamentals\n",
    "\n",
    "### Basic syntax"
   ]
  },
  {
   "cell_type": "code",
   "execution_count": 1,
   "id": "dc6957b6",
   "metadata": {},
   "outputs": [
    {
     "name": "stdout",
     "output_type": "stream",
     "text": [
      "Hello World!\n"
     ]
    }
   ],
   "source": [
    "print(\"Hello World!\")\n",
    "# You can comment in codeblock using # at the front"
   ]
  },
  {
   "cell_type": "markdown",
   "id": "ce9161ab",
   "metadata": {},
   "source": [
    "### Data types\n",
    "* floating point numbers, e.g. `float32` and `float64`.\n",
    "* complex number\n",
    "* string\n",
    "* integer\n",
    "* bytes\n",
    "* boolean\n",
    "\n",
    "| Class | Basic Types |\n",
    "| ------- | --------- |\n",
    "| `int` | Integer |\n",
    "| `float` | floating point number |\n",
    "| `complex` | Complex number |\n",
    "| `str` | string or character |\n",
    "| `bytes`, `bytearray` | bytes |\n",
    "| `bool` | Boolean |"
   ]
  },
  {
   "cell_type": "code",
   "execution_count": 2,
   "id": "aa85bb5f",
   "metadata": {},
   "outputs": [
    {
     "name": "stdout",
     "output_type": "stream",
     "text": [
      "<class 'int'>\n",
      "<class 'float'>\n",
      "<class 'complex'>\n",
      "<class 'str'>\n"
     ]
    }
   ],
   "source": [
    "x = 5\n",
    "y = 7.1\n",
    "z = 1j\n",
    "z1 = \"I am human\"\n",
    "\n",
    "print(type(x))\n",
    "print(type(y))\n",
    "print(type(z))\n",
    "print(type(z1))"
   ]
  },
  {
   "cell_type": "code",
   "execution_count": 3,
   "id": "4314cd73",
   "metadata": {},
   "outputs": [
    {
     "name": "stdout",
     "output_type": "stream",
     "text": [
      "0\n",
      "7.6\n"
     ]
    }
   ],
   "source": [
    "# We can do casting, specify the data type by these syntax, float(), int() and str()\n",
    "y = 8 / 10\n",
    "z = \"7.6\"\n",
    "\n",
    "print(int(y))\n",
    "print(float(z))"
   ]
  },
  {
   "cell_type": "markdown",
   "id": "deeaf4ef",
   "metadata": {},
   "source": [
    "### Data structures (native to Python)\n",
    "\n",
    "#### List and tuple\n",
    "List and tuple are both variables that can store multiple items. The major differences between the 2 are:\n",
    "* Elements in list is enclosed with square brackets, while tuple is written with parentheses.\n",
    "* List is changeable, while tuple is unchangeable."
   ]
  },
  {
   "cell_type": "code",
   "execution_count": 4,
   "id": "80e9c28a",
   "metadata": {},
   "outputs": [
    {
     "name": "stdout",
     "output_type": "stream",
     "text": [
      "['a', 'b', 'c']\n",
      "('a', 'b', 'c')\n"
     ]
    }
   ],
   "source": [
    "mylist = [\"a\", \"b\", \"c\"]\n",
    "print(mylist)\n",
    "\n",
    "mytuple = (\"a\", \"b\", \"c\")\n",
    "print(mytuple)"
   ]
  },
  {
   "cell_type": "code",
   "execution_count": 5,
   "id": "cb5d9b42",
   "metadata": {},
   "outputs": [
    {
     "name": "stdout",
     "output_type": "stream",
     "text": [
      "[1, 'b', 'c']\n"
     ]
    }
   ],
   "source": [
    "mylist[0] = 1\n",
    "print(mylist)"
   ]
  },
  {
   "cell_type": "code",
   "execution_count": 6,
   "id": "8cf0341f",
   "metadata": {},
   "outputs": [
    {
     "name": "stdout",
     "output_type": "stream",
     "text": [
      "Tuple is immutable\n"
     ]
    }
   ],
   "source": [
    "try:\n",
    "    mytuple[0] = 1\n",
    "except:\n",
    "    print(\"Tuple is immutable\")"
   ]
  },
  {
   "cell_type": "markdown",
   "id": "d7929cf7-c996-48ed-ad7b-04392cc27566",
   "metadata": {},
   "source": [
    "#### dictionary\n",
    "Dictionary are used to stire data values in key:value pairs. "
   ]
  },
  {
   "cell_type": "code",
   "execution_count": 7,
   "id": "a7565846-3e7d-47ef-89db-7c11f3b895b8",
   "metadata": {},
   "outputs": [
    {
     "name": "stdout",
     "output_type": "stream",
     "text": [
      "{'brand': 'Proton', 'model': 'Saga', 'year': 2022}\n"
     ]
    }
   ],
   "source": [
    "car = {\n",
    "    \"brand\": \"Proton\",\n",
    "    \"model\": \"Saga\",\n",
    "    \"year\": 2022\n",
    "}\n",
    "print(car)"
   ]
  },
  {
   "cell_type": "code",
   "execution_count": 8,
   "id": "06ef6eeb-2335-485d-9d40-3f4ea728955a",
   "metadata": {},
   "outputs": [
    {
     "name": "stdout",
     "output_type": "stream",
     "text": [
      "2022\n",
      "Saga\n"
     ]
    }
   ],
   "source": [
    "# access values in dictionary\n",
    "print(car[\"year\"])\n",
    "print(car.get(\"model\"))"
   ]
  },
  {
   "cell_type": "code",
   "execution_count": 9,
   "id": "e5680994-f5cb-4052-bbc8-a23d8c00057d",
   "metadata": {},
   "outputs": [
    {
     "name": "stdout",
     "output_type": "stream",
     "text": [
      "dict_keys(['brand', 'model', 'year'])\n",
      "dict_values(['Proton', 'Saga', 2022])\n",
      "dict_items([('brand', 'Proton'), ('model', 'Saga'), ('year', 2022)])\n"
     ]
    }
   ],
   "source": [
    "# keys, values and items\n",
    "print(car.keys())\n",
    "print(car.values())\n",
    "print(car.items())"
   ]
  },
  {
   "cell_type": "code",
   "execution_count": 10,
   "id": "fe99e003-d9f5-4e2a-82ef-9935709e6a76",
   "metadata": {},
   "outputs": [
    {
     "name": "stdout",
     "output_type": "stream",
     "text": [
      "Persona\n"
     ]
    }
   ],
   "source": [
    "# change the values of key\n",
    "car[\"model\"] = \"Persona\"\n",
    "print(car.get(\"model\"))"
   ]
  },
  {
   "cell_type": "markdown",
   "id": "300f8814-8fc8-4a82-9d74-36e254ad0930",
   "metadata": {},
   "source": [
    "### Exercise\n",
    "1. Can you create a list of squared number from $1^2$ to $10^2$?\n",
    "2. Create a dictionary with key as `grocer` and value as `prices` as shown below:\n",
    "```\n",
    "grocer = ['bread', 'milk', 'egg', 'vegetables', 'fish']\n",
    "prices = [4., 5.2, 4.2, 8.5, 20.6]\n",
    "```"
   ]
  },
  {
   "cell_type": "markdown",
   "id": "529a1202-c333-4c22-83df-b729a5f5dc74",
   "metadata": {},
   "source": [
    "## Custom function"
   ]
  },
  {
   "cell_type": "code",
   "execution_count": 11,
   "id": "ee0a3e44-4ea4-4ee4-81d8-930e7159510d",
   "metadata": {},
   "outputs": [],
   "source": [
    "def odd_even(x):\n",
    "    \"\"\"Function to check whether x is an odd or even integer.\n",
    "    Arguments:\n",
    "    ---\n",
    "    x: must be integer\n",
    "    \n",
    "    Return:\n",
    "    ---\n",
    "    statement to show whether x is an odd or even integer\"\"\"\n",
    "    # set up a if control flow\n",
    "    if isinstance(x, int):\n",
    "        if (x % 2 == 0) and (x != 0):\n",
    "            print(f\"{x} is an even integer.\")\n",
    "        elif x % 2 == 1:\n",
    "            print(f\"{x} is an odd integer\")\n",
    "        elif x == 0:\n",
    "            print(f\"{x} is neither odd nor even\")\n",
    "\n",
    "    else:\n",
    "        print(f\"{x} is not an integer.\")"
   ]
  },
  {
   "cell_type": "code",
   "execution_count": 12,
   "id": "22002066-1f74-4d48-84aa-bc9c077db612",
   "metadata": {},
   "outputs": [
    {
     "name": "stdout",
     "output_type": "stream",
     "text": [
      "0 is neither odd nor even\n"
     ]
    }
   ],
   "source": [
    "odd_even(0)"
   ]
  },
  {
   "cell_type": "code",
   "execution_count": 13,
   "id": "9a7060b7-1129-4b48-8d24-1d41c66b1920",
   "metadata": {},
   "outputs": [
    {
     "name": "stdout",
     "output_type": "stream",
     "text": [
      "3 is an odd integer\n"
     ]
    }
   ],
   "source": [
    "odd_even(3)"
   ]
  },
  {
   "cell_type": "code",
   "execution_count": 14,
   "id": "470d8d76-0d3c-4b56-864b-3f91bf11dc00",
   "metadata": {},
   "outputs": [
    {
     "name": "stdout",
     "output_type": "stream",
     "text": [
      "44 is an even integer.\n"
     ]
    }
   ],
   "source": [
    "odd_even(44)"
   ]
  },
  {
   "cell_type": "code",
   "execution_count": 15,
   "id": "e8178b5e-7390-4ddc-ba1a-7e477c3573cf",
   "metadata": {},
   "outputs": [
    {
     "name": "stdout",
     "output_type": "stream",
     "text": [
      "Boring is not an integer.\n"
     ]
    }
   ],
   "source": [
    "odd_even(\"Boring\")"
   ]
  },
  {
   "cell_type": "code",
   "execution_count": 16,
   "id": "20d7b50c-e8bf-402a-a54a-b189b7393ed6",
   "metadata": {},
   "outputs": [],
   "source": [
    "def factorial(n):\n",
    "    \"\"\"Function to calculate factorial.\n",
    "    Argument:\n",
    "    ---\n",
    "    n must be integer larger or equal to zero\n",
    "    \n",
    "    Return:\n",
    "    ---\n",
    "    Factorial\"\"\"\n",
    "    if n >= 0:\n",
    "        return 1 if n<=0 else n * factorial(n - 1)"
   ]
  },
  {
   "cell_type": "code",
   "execution_count": 17,
   "id": "66fbab80-4d95-41ee-ab19-240e1d030400",
   "metadata": {},
   "outputs": [
    {
     "data": {
      "text/plain": [
       "120"
      ]
     },
     "execution_count": 17,
     "metadata": {},
     "output_type": "execute_result"
    }
   ],
   "source": [
    "factorial(5)"
   ]
  },
  {
   "cell_type": "code",
   "execution_count": 18,
   "id": "53d00b9d-57c1-455d-a9c4-b90e029405a0",
   "metadata": {},
   "outputs": [
    {
     "data": {
      "text/plain": [
       "720"
      ]
     },
     "execution_count": 18,
     "metadata": {},
     "output_type": "execute_result"
    }
   ],
   "source": [
    "factorial(6)"
   ]
  },
  {
   "cell_type": "markdown",
   "id": "f7b77111-f01e-4bfb-94b9-204c05f9b987",
   "metadata": {},
   "source": [
    "But the above function is not robust, since it will invoke error if user provide non-numeric arguments."
   ]
  },
  {
   "cell_type": "code",
   "execution_count": 19,
   "id": "8e82dadc-8512-4988-a3ff-8cdea0ea7560",
   "metadata": {},
   "outputs": [],
   "source": [
    "import numbers\n",
    "\n",
    "def simple_add(x, y):\n",
    "    \"\"\"Function to add 2 numbers:\n",
    "    Parameters:\n",
    "    x & y: must be numbers\n",
    "    \n",
    "    Returns:\n",
    "    result of addition\"\"\"\n",
    "\n",
    "    if isinstance(x, numbers.Number) and isinstance(y, numbers.Number):\n",
    "        return x + y\n",
    "    else:\n",
    "        print(\"Invalid input argument\")"
   ]
  },
  {
   "cell_type": "code",
   "execution_count": 20,
   "id": "43ceea52-a888-413b-8d83-253123f10bb2",
   "metadata": {},
   "outputs": [
    {
     "data": {
      "text/plain": [
       "10"
      ]
     },
     "execution_count": 20,
     "metadata": {},
     "output_type": "execute_result"
    }
   ],
   "source": [
    "simple_add(20, -10)"
   ]
  },
  {
   "cell_type": "code",
   "execution_count": 21,
   "id": "0bbd7fe1-336e-4f0a-9a17-643d991c5530",
   "metadata": {},
   "outputs": [
    {
     "data": {
      "text/plain": [
       "12"
      ]
     },
     "execution_count": 21,
     "metadata": {},
     "output_type": "execute_result"
    }
   ],
   "source": [
    "simple_add(2, 10)"
   ]
  },
  {
   "cell_type": "code",
   "execution_count": 22,
   "id": "b424b728-dd0a-4b8b-9bec-ceb3b6606794",
   "metadata": {},
   "outputs": [
    {
     "name": "stdout",
     "output_type": "stream",
     "text": [
      "Invalid input argument\n"
     ]
    }
   ],
   "source": [
    "simple_add(7, \"a\")"
   ]
  },
  {
   "cell_type": "markdown",
   "id": "9a7e8bb6-0e23-4398-bd2f-40754414cb02",
   "metadata": {},
   "source": [
    "Another way to control Exception: use `try` and `except` blocks"
   ]
  },
  {
   "cell_type": "code",
   "execution_count": 23,
   "id": "67967ecb-55d3-43d1-abfd-6e510a30577f",
   "metadata": {},
   "outputs": [],
   "source": [
    "def simple_add(x, y):\n",
    "    \"\"\"Function to add 2 numbers:\n",
    "    Parameters:\n",
    "    x & y: must be numbers\n",
    "    \n",
    "    Returns:\n",
    "    result of addition\"\"\"\n",
    "    try:\n",
    "        return x + y\n",
    "    except Exception as e:\n",
    "        print(e)"
   ]
  },
  {
   "cell_type": "code",
   "execution_count": 24,
   "id": "525aac03-9071-43c7-b466-b801fb60c2f0",
   "metadata": {},
   "outputs": [
    {
     "name": "stdout",
     "output_type": "stream",
     "text": [
      "unsupported operand type(s) for +: 'int' and 'str'\n"
     ]
    }
   ],
   "source": [
    "simple_add(7, \"a\")"
   ]
  },
  {
   "cell_type": "markdown",
   "id": "0c60910d",
   "metadata": {},
   "source": [
    "## Numpy module\n",
    "Numpy is a Python module used for working with arrays. Numpy provides array object that is faster than Python lists. This is due to locality of reference. NumPy arrays are stored at one continuous place in memory unlike lists, so processes can access and manipulate them very efficiently. "
   ]
  },
  {
   "cell_type": "code",
   "execution_count": 25,
   "id": "82423681",
   "metadata": {},
   "outputs": [],
   "source": [
    "import numpy as np"
   ]
  },
  {
   "cell_type": "code",
   "execution_count": 26,
   "id": "ca8bb251-1039-4ea8-8a4b-940bf09c3f01",
   "metadata": {},
   "outputs": [
    {
     "data": {
      "text/plain": [
       "array([1, 2, 3, 4, 5])"
      ]
     },
     "execution_count": 26,
     "metadata": {},
     "output_type": "execute_result"
    }
   ],
   "source": [
    "import numpy as np\n",
    "\n",
    "a = np.array([1, 2, 3, 4, 5])\n",
    "a"
   ]
  },
  {
   "cell_type": "code",
   "execution_count": 27,
   "id": "8ffdc909-5cbf-4591-b457-929d0b27481a",
   "metadata": {},
   "outputs": [
    {
     "data": {
      "text/plain": [
       "array([ 6,  7,  8,  9, 10])"
      ]
     },
     "execution_count": 27,
     "metadata": {},
     "output_type": "execute_result"
    }
   ],
   "source": [
    "b = np.arange(6, 11)\n",
    "b"
   ]
  },
  {
   "cell_type": "code",
   "execution_count": 28,
   "id": "a1f8ed16-2090-450d-860b-c999a20527d0",
   "metadata": {},
   "outputs": [
    {
     "data": {
      "text/plain": [
       "array([ 1,  2,  3,  4,  5,  6,  7,  8,  9, 10])"
      ]
     },
     "execution_count": 28,
     "metadata": {},
     "output_type": "execute_result"
    }
   ],
   "source": [
    "long_arr = np.concatenate((a, b), axis=None)\n",
    "long_arr"
   ]
  },
  {
   "cell_type": "code",
   "execution_count": 29,
   "id": "fb073d2b-6478-4ead-96ca-6498d137988b",
   "metadata": {},
   "outputs": [
    {
     "data": {
      "text/plain": [
       "(10,)"
      ]
     },
     "execution_count": 29,
     "metadata": {},
     "output_type": "execute_result"
    }
   ],
   "source": [
    "long_arr.shape"
   ]
  },
  {
   "cell_type": "code",
   "execution_count": 30,
   "id": "79b8a677-c84d-46d6-8517-9fb05d644b12",
   "metadata": {},
   "outputs": [
    {
     "data": {
      "text/plain": [
       "array([[ 1,  2,  3,  4,  5],\n",
       "       [ 6,  7,  8,  9, 10]])"
      ]
     },
     "execution_count": 30,
     "metadata": {},
     "output_type": "execute_result"
    }
   ],
   "source": [
    "a = a.reshape(1, -1)\n",
    "b = b.reshape(1, -1)\n",
    "ab = np.concatenate((a, b), axis=0)\n",
    "ab"
   ]
  },
  {
   "cell_type": "code",
   "execution_count": 31,
   "id": "995cd7b4-9649-4abd-982f-8ba117405246",
   "metadata": {},
   "outputs": [
    {
     "data": {
      "text/plain": [
       "(2, 5)"
      ]
     },
     "execution_count": 31,
     "metadata": {},
     "output_type": "execute_result"
    }
   ],
   "source": [
    "ab.shape"
   ]
  },
  {
   "cell_type": "markdown",
   "id": "032d3389-8879-4828-8961-e40d1866eccd",
   "metadata": {},
   "source": [
    "### Create Numpy array"
   ]
  },
  {
   "cell_type": "code",
   "execution_count": 32,
   "id": "25f37868",
   "metadata": {},
   "outputs": [
    {
     "name": "stdout",
     "output_type": "stream",
     "text": [
      "[1 2 3 4 5]\n",
      "<class 'numpy.ndarray'>\n"
     ]
    }
   ],
   "source": [
    "x = np.array([1, 2, 3, 4, 5])\n",
    "print(x)\n",
    "print(type(x))"
   ]
  },
  {
   "cell_type": "markdown",
   "id": "58472cda",
   "metadata": {},
   "source": [
    "### Array indexing"
   ]
  },
  {
   "cell_type": "code",
   "execution_count": 33,
   "id": "84e2c63b",
   "metadata": {},
   "outputs": [
    {
     "name": "stdout",
     "output_type": "stream",
     "text": [
      "1\n",
      "5\n"
     ]
    }
   ],
   "source": [
    "# Lets access the first and last element of x\n",
    "print(x[0])\n",
    "print(x[-1])"
   ]
  },
  {
   "cell_type": "code",
   "execution_count": 34,
   "id": "6e6ddf91",
   "metadata": {},
   "outputs": [
    {
     "name": "stdout",
     "output_type": "stream",
     "text": [
      "[ 1  2  3  4  5  6  7  8  9 10]\n"
     ]
    }
   ],
   "source": [
    "x1 = np.array([6, 7, 8, 9, 10])\n",
    "x_long = np.concatenate((x, x1), axis=None)\n",
    "print(x_long)"
   ]
  },
  {
   "cell_type": "markdown",
   "id": "1980dfd2",
   "metadata": {},
   "source": [
    "A `numpy.ndarray` is a generic multidimensional container for homogeneous data, i.e. all the elements must be of the same data type. Every array has a **shape**, which is expressed as tuple, indicating the size of each dimension as well as a **dtype**, an object describing the data type of the array."
   ]
  },
  {
   "cell_type": "code",
   "execution_count": 35,
   "id": "9b152e47",
   "metadata": {},
   "outputs": [
    {
     "name": "stdout",
     "output_type": "stream",
     "text": [
      "The shape of variable x_long: (10,)\n",
      "int32\n"
     ]
    }
   ],
   "source": [
    "print(f\"The shape of variable x_long: {x_long.shape}\")\n",
    "print(x_long.dtype)"
   ]
  },
  {
   "cell_type": "markdown",
   "id": "7e2449b5-2e09-4ae2-9e7f-1bc5cd3f01df",
   "metadata": {},
   "source": [
    "## Create simple image with NumPy and display them with matplotlib"
   ]
  },
  {
   "cell_type": "markdown",
   "id": "e955dc14-32d1-442a-9395-c62093e13108",
   "metadata": {},
   "source": [
    "## Exercise\n",
    "1. Replace all the negative values in the list with zero.\n",
    "```\n",
    "ratings = [5, 2, 1, -1, 5, 3, 4, -1, 4]\n",
    "```"
   ]
  },
  {
   "cell_type": "markdown",
   "id": "a8c620e3",
   "metadata": {},
   "source": [
    "## Custom image using Numpy\n",
    "Now that you have some basic understanding of the data structure of digital image, lets try to create a custom image with the help of Numpy library. "
   ]
  },
  {
   "cell_type": "code",
   "execution_count": 36,
   "id": "331f3176",
   "metadata": {},
   "outputs": [],
   "source": [
    "import matplotlib.pyplot as plt"
   ]
  },
  {
   "cell_type": "code",
   "execution_count": 37,
   "id": "f696dbde",
   "metadata": {},
   "outputs": [
    {
     "data": {
      "image/png": "[encoded data removed]",
      "text/plain": [
       "<Figure size 640x480 with 1 Axes>"
      ]
     },
     "metadata": {},
     "output_type": "display_data"
    }
   ],
   "source": [
    "# Create a dark grayscale image (2D array)\n",
    "gray = np.zeros((200, 200), dtype=\"uint8\")\n",
    "\n",
    "plt.imshow(gray, cmap = plt.cm.gray)\n",
    "plt.title(\"grayscale black image\")\n",
    "plt.xticks([]), plt.yticks([])\n",
    "plt.show()"
   ]
  },
  {
   "cell_type": "code",
   "execution_count": 38,
   "id": "866c2803",
   "metadata": {},
   "outputs": [
    {
     "data": {
      "image/png": "[encoded data removed]",
      "text/plain": [
       "<Figure size 640x480 with 1 Axes>"
      ]
     },
     "metadata": {},
     "output_type": "display_data"
    }
   ],
   "source": [
    "white = 255 * np.ones((200, 200))\n",
    "white = np.uint8(white)\n",
    "\n",
    "plt.imshow(white, cmap = plt.cm.gray, vmin=0, vmax=255)\n",
    "plt.title(\"grayscale white image\")\n",
    "plt.xticks([]), plt.yticks([])\n",
    "plt.show()"
   ]
  },
  {
   "cell_type": "code",
   "execution_count": 39,
   "id": "ca1c5716",
   "metadata": {},
   "outputs": [
    {
     "data": {
      "image/png": "[encoded data removed]",
      "text/plain": [
       "<Figure size 640x480 with 1 Axes>"
      ]
     },
     "metadata": {},
     "output_type": "display_data"
    }
   ],
   "source": [
    "# Next, lets create random color image\n",
    "noise_color_img = np.random.randint(0, high=256, size = (100, 100, 3), dtype=np.uint8)\n",
    "\n",
    "plt.imshow(noise_color_img)\n",
    "plt.title(\"random noise color image\")\n",
    "plt.xticks([]), plt.yticks([])\n",
    "plt.show()"
   ]
  },
  {
   "attachments": {
    "5d4026b2-6b16-4515-8e03-3065096fa0e8.png": {
     "image/png": "[encoded data removed]"
    }
   },
   "cell_type": "markdown",
   "id": "7fe7b83f",
   "metadata": {},
   "source": [
    "## Exercises\n",
    "1. Find the range of values for each of the following data types:\n",
    "    * `uint8`\n",
    "    * `int8`\n",
    "    * `uint32`\n",
    "    * `int32`\n",
    "2. Try to write a simple custom function to determine whether a given integer is odd or even number.\n",
    "3. Write a simple example code to show that Numpy is more efficient in numerical computation of large arrays of data than equivalent Python list.\n",
    "4. Run the following codes:\n",
    "```python\n",
    "    # create a 1D array\n",
    "    my_arr = np.arange(10)\n",
    "    print(\"Initial my_arr: \", my_arr)\n",
    "    arr_slice = my_arr\n",
    "    print(\"Initial arr_slice: \", arr_slice)\n",
    "\n",
    "    # change the first element of arr_slice\n",
    "    arr_slice[0] = 55\n",
    "\n",
    "    print(\"my_arr: \", my_arr)\n",
    "    print(\"arr_slice: \", arr_slice)\n",
    "```\n",
    "\n",
    "What do you notice? Propose a way to reassign `arr_slice` with new value **without modifying** `my_arr`.\n",
    "\n",
    "5. Create an image as shown as the following with the help of Numpy and matplotlib modules. You can arbitrarily set the dimension of the image and white circular spot at the middle.\n",
    "\n",
    "![image.png](attachment:5d4026b2-6b16-4515-8e03-3065096fa0e8.png)"
   ]
  },
  {
   "cell_type": "markdown",
   "id": "5c3a0a88",
   "metadata": {},
   "source": [
    "### Exercise 1"
   ]
  },
  {
   "cell_type": "code",
   "execution_count": 54,
   "id": "fa02cff0-9744-4f76-b2e8-cecd4b732e03",
   "metadata": {},
   "outputs": [
    {
     "name": "stdout",
     "output_type": "stream",
     "text": [
      "uint8 range: 0 to 255\n",
      "int8 range: -128 to 127\n",
      "uint32 range: 0 to 4294967295\n",
      "int32 range: -2147483648 to 2147483647\n"
     ]
    }
   ],
   "source": [
    "import numpy as np\n",
    "\n",
    "# uint8\n",
    "uint8_min = np.iinfo(np.uint8).min\n",
    "uint8_max = np.iinfo(np.uint8).max\n",
    "print(f\"uint8 range: {uint8_min} to {uint8_max}\")\n",
    "\n",
    "# int8\n",
    "int8_min = np.iinfo(np.int8).min\n",
    "int8_max = np.iinfo(np.int8).max\n",
    "print(f\"int8 range: {int8_min} to {int8_max}\")\n",
    "\n",
    "# uint32\n",
    "uint32_min = np.iinfo(np.uint32).min\n",
    "uint32_max = np.iinfo(np.uint32).max\n",
    "print(f\"uint32 range: {uint32_min} to {uint32_max}\")\n",
    "\n",
    "# int32\n",
    "int32_min = np.iinfo(np.int32).min\n",
    "int32_max = np.iinfo(np.int32).max\n",
    "print(f\"int32 range: {int32_min} to {int32_max}\")"
   ]
  },
  {
   "cell_type": "markdown",
   "id": "e341c522-5084-4e8c-88a3-d2b72e1c2b7b",
   "metadata": {},
   "source": [
    "### Exercise 2"
   ]
  },
  {
   "cell_type": "code",
   "execution_count": 55,
   "id": "7c71f847-c86d-4570-81fb-d968adcd00a7",
   "metadata": {},
   "outputs": [
    {
     "name": "stdout",
     "output_type": "stream",
     "text": [
      "7 is odd\n"
     ]
    }
   ],
   "source": [
    "def is_even(number):\n",
    "    return number % 2 == 0\n",
    "\n",
    "# Test \n",
    "num = 7\n",
    "if is_even(num):\n",
    "    print(f\"{num} is even\")\n",
    "else:\n",
    "    print(f\"{num} is odd\")"
   ]
  },
  {
   "cell_type": "markdown",
   "id": "1bb77810-5f67-4370-9c8f-c5c9b0f3aa08",
   "metadata": {},
   "source": [
    "### Exercise 3"
   ]
  },
  {
   "cell_type": "code",
   "execution_count": 3,
   "id": "c11890fb-22cd-49b2-a276-318af09333b9",
   "metadata": {},
   "outputs": [
    {
     "name": "stdout",
     "output_type": "stream",
     "text": [
      "Python list computation time: 0.0243 seconds\n",
      "NumPy array computation time: 0.0010 seconds\n",
      "NumPy is 24.19x faster\n"
     ]
    }
   ],
   "source": [
    "import numpy as np\n",
    "import time\n",
    "\n",
    "# Size of the array\n",
    "size = 100000\n",
    "\n",
    "# Python list computation\n",
    "start_time = time.time()\n",
    "python_list = [i for i in range(size)]\n",
    "python_result = [python_list[i] + python_list[i] for i in range(size)]\n",
    "python_duration = time.time() - start_time\n",
    "\n",
    "# NumPy array computation\n",
    "start_time = time.time()\n",
    "numpy_array = np.arange(size)\n",
    "numpy_result = numpy_array + numpy_array\n",
    "numpy_duration = time.time() - start_time\n",
    "\n",
    "print(f\"Python list computation time: {python_duration:.4f} seconds\")\n",
    "print(f\"NumPy array computation time: {numpy_duration:.4f} seconds\")\n",
    "if numpy_duration > 0:\n",
    "    print(f\"NumPy is {python_duration / numpy_duration:.2f}x faster\")\n",
    "else:\n",
    "    print(\"NumPy computation time is too small to measure accurately\")"
   ]
  },
  {
   "cell_type": "markdown",
   "id": "684484f3-1b59-4fe1-bc8a-bcd30c5600de",
   "metadata": {},
   "source": [
    "### Exercise 4"
   ]
  },
  {
   "cell_type": "code",
   "execution_count": 7,
   "id": "ab5673cf-b28d-4050-987e-c4b9afd4fd4d",
   "metadata": {},
   "outputs": [
    {
     "name": "stdout",
     "output_type": "stream",
     "text": [
      "Initial my_arr:  [0 1 2 3 4 5 6 7 8 9]\n",
      "Initial arr_slice:  [0 1 2 3 4 5 6 7 8 9]\n",
      "my_arr:  [55  1  2  3  4  5  6  7  8  9]\n",
      "arr_slice:  [55  1  2  3  4  5  6  7  8  9]\n"
     ]
    }
   ],
   "source": [
    "import numpy as np\n",
    "\n",
    "# Create a 1D array\n",
    "my_arr = np.arange(10)\n",
    "print(\"Initial my_arr: \", my_arr)\n",
    "arr_slice = my_arr\n",
    "print(\"Initial arr_slice: \", arr_slice)\n",
    "\n",
    "# Change the first element of arr_slice\n",
    "arr_slice[0] = 55\n",
    "\n",
    "print(\"my_arr: \", my_arr)\n",
    "print(\"arr_slice: \", arr_slice)"
   ]
  },
  {
   "cell_type": "markdown",
   "id": "cf60ff99-0d11-4541-8d17-418ece99046d",
   "metadata": {},
   "source": [
    " After changing the element in arr_slice are also changing the corresponding element in my_arr"
   ]
  },
  {
   "cell_type": "markdown",
   "id": "e24eabe3-e8e0-4a25-a1af-95062251dc8b",
   "metadata": {},
   "source": [
    "#### A way to reassign arr_slice with new value without modifying my_arr"
   ]
  },
  {
   "cell_type": "code",
   "execution_count": 8,
   "id": "315fcbbb-5299-49a6-bb88-c1917117470d",
   "metadata": {},
   "outputs": [
    {
     "name": "stdout",
     "output_type": "stream",
     "text": [
      "Initial my_arr:  [0 1 2 3 4 5 6 7 8 9]\n",
      "Initial arr_slice:  [0 1 2 3 4 5 6 7 8 9]\n",
      "my_arr:  [0 1 2 3 4 5 6 7 8 9]\n",
      "arr_slice:  [55  1  2  3  4  5  6  7  8  9]\n"
     ]
    }
   ],
   "source": [
    "import numpy as np\n",
    "\n",
    "# Create a 1D array\n",
    "my_arr = np.arange(10)\n",
    "print(\"Initial my_arr: \", my_arr)\n",
    "arr_slice = np.copy(my_arr)\n",
    "print(\"Initial arr_slice: \", arr_slice)\n",
    "\n",
    "# Change the first element of arr_slice\n",
    "arr_slice[0] = 55\n",
    "\n",
    "print(\"my_arr: \", my_arr)\n",
    "print(\"arr_slice: \", arr_slice)\n"
   ]
  },
  {
   "cell_type": "markdown",
   "id": "208c8267-42f4-45c2-954f-6a4da1f62bfe",
   "metadata": {},
   "source": [
    "### Exercise 5"
   ]
  },
  {
   "cell_type": "code",
   "execution_count": 10,
   "id": "8a371b3d-a710-45bc-b4d7-4209ae8545f5",
   "metadata": {},
   "outputs": [
    {
     "data": {
      "image/png": "[encoded data removed]",
      "text/plain": [
       "<Figure size 640x480 with 1 Axes>"
      ]
     },
     "metadata": {},
     "output_type": "display_data"
    }
   ],
   "source": [
    "import numpy as np\n",
    "import matplotlib.pyplot as plt\n",
    "\n",
    "# Dimensions of the image\n",
    "width, height = 500, 500\n",
    "\n",
    "# Create a black image\n",
    "image = np.zeros((height, width), dtype=np.uint8)\n",
    "\n",
    "# Define the center and radius of the circle\n",
    "center_x, center_y = width // 2, height // 2\n",
    "radius = 100\n",
    "\n",
    "# Grid of x and y coordinates\n",
    "y, x = np.ogrid[:height, :width]\n",
    "\n",
    "# Calculate the distance from the center\n",
    "distance_from_center = (x - center_x)**2 + (y - center_y)**2\n",
    "\n",
    "# Set the pixels within the circle to white\n",
    "image[distance_from_center <= radius**2] = 255\n",
    "\n",
    "plt.imshow(image, cmap='gray')\n",
    "plt.axis('off')  # Hide the axes\n",
    "plt.show()\n"
   ]
  }
 ],
 "metadata": {
  "kernelspec": {
   "display_name": "Python 3 (ipykernel)",
   "language": "python",
   "name": "python3"
  },
  "language_info": {
   "codemirror_mode": {
    "name": "ipython",
    "version": 3
   },
   "file_extension": ".py",
   "mimetype": "text/x-python",
   "name": "python",
   "nbconvert_exporter": "python",
   "pygments_lexer": "ipython3",
   "version": "3.12.4"
  }
 },
 "nbformat": 4,
 "nbformat_minor": 5
}
